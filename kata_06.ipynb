{
 "cells": [
  {
   "cell_type": "markdown",
   "metadata": {},
   "source": [
    "# KATA 06"
   ]
  },
  {
   "cell_type": "markdown",
   "metadata": {},
   "source": [
    "## Ejercicio 1"
   ]
  },
  {
   "cell_type": "code",
   "execution_count": 9,
   "metadata": {},
   "outputs": [
    {
     "name": "stdout",
     "output_type": "stream",
     "text": [
      "['Mercurio', 'Venus', 'Tierra', 'Marte', 'Jupiter', 'Saturno', 'Urano', 'Neptuno']\n"
     ]
    }
   ],
   "source": [
    "# Crear lista de planetas\n",
    "planets = ['Mercurio', 'Venus', 'Tierra', 'Marte', 'Jupiter', 'Saturno', 'Urano', 'Neptuno']\n",
    "print(planets)"
   ]
  },
  {
   "cell_type": "code",
   "execution_count": 10,
   "metadata": {},
   "outputs": [
    {
     "name": "stdout",
     "output_type": "stream",
     "text": [
      "Hay actualmente 9 planetas en el sistema solar.\n",
      "Plutón es el último planeta\n"
     ]
    }
   ],
   "source": [
    "# Agregar a Plutón y mostrar el último planeta\n",
    "planets.append('Plutón')\n",
    "number_of_planets = len(planets)\n",
    "print('Hay actualmente', number_of_planets, 'planetas en el sistema solar.')\n",
    "print(planets[-1], 'es el último planeta')"
   ]
  },
  {
   "cell_type": "markdown",
   "metadata": {},
   "source": [
    "## Ejercicio 2"
   ]
  },
  {
   "cell_type": "code",
   "execution_count": 11,
   "metadata": {},
   "outputs": [],
   "source": [
    "# Lista de planetas\n",
    "planets = ['Mercurio', 'Venus', 'Tierra', 'Marte', 'Jupiter', 'Saturno', 'Urano', 'Neptuno']"
   ]
  },
  {
   "cell_type": "code",
   "execution_count": 13,
   "metadata": {},
   "outputs": [
    {
     "name": "stdout",
     "output_type": "stream",
     "text": [
      "Los planetas más cercanos al sol y de Jupiter son:\n",
      "['Mercurio', 'Venus', 'Tierra', 'Marte']\n",
      "Los planetas más lejanos al sol y de Jupiter son:\n",
      "['Saturno', 'Urano', 'Neptuno']\n"
     ]
    }
   ],
   "source": [
    "# Ingreso de datos\n",
    "uplanet = input('Ingrese el nombre del planeta comenzado con máyuscula')\n",
    "\n",
    "# Buscar el planeta en la lista\n",
    "planet_i = planets.index(uplanet)\n",
    "\n",
    "# Mostrar planetas cercanos al sol\n",
    "print('Los planetas más cercanos al sol y de', uplanet, 'son:')\n",
    "print(planets[0:planet_i])\n",
    "\n",
    "# Mostrar planetas lejanos al sol\n",
    "print('Los planetas más lejanos al sol y de', uplanet, 'son:')\n",
    "print(planets[planet_i+1:])"
   ]
  }
 ],
 "metadata": {
  "interpreter": {
   "hash": "a1117060f09de8de53043eede8142601c293a15caef65ab8ed1765e04c295ef2"
  },
  "kernelspec": {
   "display_name": "Python 3.9.10 64-bit",
   "language": "python",
   "name": "python3"
  },
  "language_info": {
   "codemirror_mode": {
    "name": "ipython",
    "version": 3
   },
   "file_extension": ".py",
   "mimetype": "text/x-python",
   "name": "python",
   "nbconvert_exporter": "python",
   "pygments_lexer": "ipython3",
   "version": "3.9.10"
  },
  "orig_nbformat": 4
 },
 "nbformat": 4,
 "nbformat_minor": 2
}
