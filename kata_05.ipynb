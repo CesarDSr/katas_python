{
 "cells": [
  {
   "cell_type": "markdown",
   "metadata": {},
   "source": [
    "# KATA 05"
   ]
  },
  {
   "cell_type": "markdown",
   "metadata": {},
   "source": [
    "## Ejercicio 1"
   ]
  },
  {
   "cell_type": "code",
   "execution_count": 8,
   "metadata": {},
   "outputs": [
    {
     "name": "stdout",
     "output_type": "stream",
     "text": [
      "Distancia en km: 628949330\n",
      "Distancia en mi: 390577533.93\n"
     ]
    }
   ],
   "source": [
    "# Crear variables:\n",
    "earth = 149597870 # en km\n",
    "jupiter = 778547200 # en km\n",
    "\n",
    "# Calcular distancia entre planetas:\n",
    "distance_km =  jupiter - earth\n",
    "print(f'Distancia en km: {distance_km}')\n",
    "\n",
    "distance_mi = distance_km * 0.621\n",
    "print(f'Distancia en mi: {distance_mi}')"
   ]
  },
  {
   "cell_type": "markdown",
   "metadata": {},
   "source": [
    "## Ejercicio 2"
   ]
  },
  {
   "cell_type": "code",
   "execution_count": 14,
   "metadata": {},
   "outputs": [
    {
     "name": "stdout",
     "output_type": "stream",
     "text": [
      "Distancia en km: 4985\n",
      "Distancia en mi: 3095.685\n"
     ]
    }
   ],
   "source": [
    "# Almacenar las entradas del usuario\n",
    "planet_1 = input('Introduzca la distancia entre el sol y el primer planeta en km')\n",
    "planet_2 = input('Introduzca la distancia entre el sol y el segundo planeta en km')\n",
    "\n",
    "# Convertir las cadenas a números enteros\n",
    "planet_1 = int(planet_1)\n",
    "planet_2 = int(planet_2)\n",
    "\n",
    "# Calcular el valor absoluto\n",
    "distance_km = planet_1 - planet_2\n",
    "distance_km = abs(distance_km)\n",
    "print(f'Distancia en km: {distance_km}')\n",
    "\n",
    "# Calcular el valor en millas\n",
    "distance_mi = distance_km * 0.621\n",
    "print(f'Distancia en mi: {distance_mi}')"
   ]
  }
 ],
 "metadata": {
  "interpreter": {
   "hash": "a1117060f09de8de53043eede8142601c293a15caef65ab8ed1765e04c295ef2"
  },
  "kernelspec": {
   "display_name": "Python 3.9.10 64-bit",
   "language": "python",
   "name": "python3"
  },
  "language_info": {
   "codemirror_mode": {
    "name": "ipython",
    "version": 3
   },
   "file_extension": ".py",
   "mimetype": "text/x-python",
   "name": "python",
   "nbconvert_exporter": "python",
   "pygments_lexer": "ipython3",
   "version": "3.9.10"
  },
  "orig_nbformat": 4
 },
 "nbformat": 4,
 "nbformat_minor": 2
}
