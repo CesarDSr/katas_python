{
 "cells": [
  {
   "cell_type": "markdown",
   "metadata": {},
   "source": [
    "# KATA 03"
   ]
  },
  {
   "cell_type": "code",
   "execution_count": 1,
   "metadata": {},
   "outputs": [
    {
     "name": "stdout",
     "output_type": "stream",
     "text": [
      "¡Alerta! ¡Un asteroide se acerca demasiado rápido!\n"
     ]
    }
   ],
   "source": [
    "asteroid = 49\n",
    "\n",
    "if asteroid > 25:\n",
    "    print('¡Alerta! ¡Un asteroide se acerca demasiado rápido!')\n",
    "else:\n",
    "    print('¡Continua con tu día!')"
   ]
  },
  {
   "cell_type": "code",
   "execution_count": 3,
   "metadata": {},
   "outputs": [
    {
     "name": "stdout",
     "output_type": "stream",
     "text": [
      "¡No hay nada que ver!\n"
     ]
    }
   ],
   "source": [
    "asteroid = 19\n",
    "\n",
    "if asteroid == 20:\n",
    "    print('¡Busca el asteroide en el cielo!')\n",
    "elif asteroid > 20:\n",
    "    print('¡Busca el asteroide en el cielo!')\n",
    "else:\n",
    "    print('¡No hay nada que ver!')"
   ]
  },
  {
   "cell_type": "code",
   "execution_count": 4,
   "metadata": {},
   "outputs": [
    {
     "name": "stdout",
     "output_type": "stream",
     "text": [
      "¡Busca el asteroide en el cielo!\n"
     ]
    }
   ],
   "source": [
    "v_asteroid = 25\n",
    "t_asteroid = 40\n",
    "if v_asteroid > 25 and t_asteroid > 25:\n",
    "    print('¡Alerta! ¡Un asteroide se acerca demasiado rápido!')\n",
    "elif v_asteroid >= 20:\n",
    "    print('¡Busca el asteroide en el cielo!')\n",
    "elif t_asteroid < 25:\n",
    "    print('¡No hay nada que ver!')\n",
    "else:\n",
    "    print('¡No hay nada que ver!')"
   ]
  }
 ],
 "metadata": {
  "interpreter": {
   "hash": "a1117060f09de8de53043eede8142601c293a15caef65ab8ed1765e04c295ef2"
  },
  "kernelspec": {
   "display_name": "Python 3.9.10 64-bit",
   "language": "python",
   "name": "python3"
  },
  "language_info": {
   "codemirror_mode": {
    "name": "ipython",
    "version": 3
   },
   "file_extension": ".py",
   "mimetype": "text/x-python",
   "name": "python",
   "nbconvert_exporter": "python",
   "pygments_lexer": "ipython3",
   "version": "3.9.10"
  },
  "orig_nbformat": 4
 },
 "nbformat": 4,
 "nbformat_minor": 2
}
