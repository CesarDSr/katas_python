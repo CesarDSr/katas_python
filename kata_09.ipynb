{
 "cells": [
  {
   "cell_type": "markdown",
   "metadata": {},
   "source": [
    "# KATA 09"
   ]
  },
  {
   "cell_type": "markdown",
   "metadata": {},
   "source": [
    "## Ejercicio 1"
   ]
  },
  {
   "cell_type": "code",
   "execution_count": 8,
   "metadata": {},
   "outputs": [],
   "source": [
    "# Leer tres tanques de combustible y muestrar el promedio\n",
    "def g_report(tank_1, tank_2, tank_3):\n",
    "    average = (tank_1 + tank_2 + tank_3)/3\n",
    "    return f\"Combustible promedio: {average}%\""
   ]
  },
  {
   "cell_type": "code",
   "execution_count": 9,
   "metadata": {},
   "outputs": [
    {
     "name": "stdout",
     "output_type": "stream",
     "text": [
      "Combustible promedio: 60.0%\n"
     ]
    }
   ],
   "source": [
    "# Llamar a la función que genera el reporte\n",
    "print(g_report(20, 70, 90))"
   ]
  },
  {
   "cell_type": "code",
   "execution_count": 10,
   "metadata": {},
   "outputs": [],
   "source": [
    "# Función promedio \n",
    "def average(values):\n",
    "    total = sum(values)\n",
    "    nitems = len(values)\n",
    "    return total / nitems"
   ]
  },
  {
   "cell_type": "code",
   "execution_count": 12,
   "metadata": {},
   "outputs": [
    {
     "name": "stdout",
     "output_type": "stream",
     "text": [
      "Reporte de combustible:\n",
      "    Promedio total: 60.0%\n"
     ]
    }
   ],
   "source": [
    "# Actualizar la función\n",
    "def g_report(tank_1, tank_2, tank_3):\n",
    "    return f\"\"\"Reporte de combustible:\n",
    "    Promedio total: {average([tank_1, tank_2, tank_3])}%\"\"\"\n",
    "\n",
    "print(g_report(20, 70, 90))"
   ]
  },
  {
   "cell_type": "markdown",
   "metadata": {},
   "source": [
    "## Ejercicio 2"
   ]
  },
  {
   "cell_type": "code",
   "execution_count": 14,
   "metadata": {},
   "outputs": [
    {
     "name": "stdout",
     "output_type": "stream",
     "text": [
      "\n",
      "    Misión a Marte\n",
      "    Tiempo total de viaje: 80 min.\n",
      "    Combustible restante: 150000 L.\n",
      "    \n"
     ]
    }
   ],
   "source": [
    "# Función con un informe preciso de la misión.\n",
    "def m_report(plaunch_t, flight_t, destination, tank_e, tank_m):\n",
    "    return f\"\"\"\n",
    "    Misión a {destination}\n",
    "    Tiempo total de viaje: {plaunch_t + flight_t} min.\n",
    "    Combustible restante: {tank_e + tank_m} L.\n",
    "    \"\"\"\n",
    "\n",
    "print(m_report(20, 60, \"Marte\", 65000, 85000))"
   ]
  },
  {
   "cell_type": "code",
   "execution_count": 15,
   "metadata": {},
   "outputs": [
    {
     "name": "stdout",
     "output_type": "stream",
     "text": [
      "\n",
      "    Misión a Marte\n",
      "    Tiempo total de viaje: 140 m.\n",
      "    Combustible restante: 550000 L.\n",
      "    \n"
     ]
    }
   ],
   "source": [
    "# Nueva función de reporte\n",
    "def m_report(destination, *minutes, **fuel_reservoirs):\n",
    "    return f\"\"\"\n",
    "    Misión a {destination}\n",
    "    Tiempo total de viaje: {sum(minutes)} m.\n",
    "    Combustible restante: {sum(fuel_reservoirs.values())} L.\n",
    "    \"\"\"\n",
    "\n",
    "print(m_report(\"Marte\", 20, 30, 10, 80, main=300000, external=200000, hydrogen=50000))"
   ]
  },
  {
   "cell_type": "code",
   "execution_count": 16,
   "metadata": {},
   "outputs": [
    {
     "name": "stdout",
     "output_type": "stream",
     "text": [
      "\n",
      "    Misión a Marte\n",
      "    Tiempo total de viaje: 140 m.\n",
      "    Combustible restante: 550000 L.\n",
      "    main tank: 300000 liters left\n",
      "external tank: 200000 liters left\n",
      "hydrogen tank: 50000 liters left\n",
      "\n"
     ]
    }
   ],
   "source": [
    "# Nueva función de reporte\n",
    "def m_report(destination, *minutes, **fuel_reservoirs):\n",
    "    main_report = f\"\"\"\n",
    "    Misión a {destination}\n",
    "    Tiempo total de viaje: {sum(minutes)} m.\n",
    "    Combustible restante: {sum(fuel_reservoirs.values())} L.\n",
    "    \"\"\"\n",
    "    for tank_name, liters in fuel_reservoirs.items():\n",
    "        main_report += f\"{tank_name} tank: {liters} liters left\\n\"\n",
    "    return main_report\n",
    "\n",
    "print(m_report(\"Marte\", 20, 30, 10, 80, main=300000, external=200000, hydrogen=50000))"
   ]
  }
 ],
 "metadata": {
  "interpreter": {
   "hash": "a1117060f09de8de53043eede8142601c293a15caef65ab8ed1765e04c295ef2"
  },
  "kernelspec": {
   "display_name": "Python 3.9.10 64-bit",
   "language": "python",
   "name": "python3"
  },
  "language_info": {
   "codemirror_mode": {
    "name": "ipython",
    "version": 3
   },
   "file_extension": ".py",
   "mimetype": "text/x-python",
   "name": "python",
   "nbconvert_exporter": "python",
   "pygments_lexer": "ipython3",
   "version": "3.9.10"
  },
  "orig_nbformat": 4
 },
 "nbformat": 4,
 "nbformat_minor": 2
}
